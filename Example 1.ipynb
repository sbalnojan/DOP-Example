{
 "cells": [
  {
   "cell_type": "markdown",
   "id": "cb4bba9a",
   "metadata": {},
   "source": [
    "# Exploring Data-Oriented Programming Principle 1"
   ]
  },
  {
   "cell_type": "markdown",
   "id": "877cbe15",
   "metadata": {},
   "source": [
    "We're going to explore the principles through Python code. Let's start! First, we write two functions.\n",
    "\n",
    "- \"print_hi(name: str)\" which says \"Hi\" to a given name\n",
    "- \"print_full_name(first_name: str, last_name: str)\" which prints out the full name of a given person"
   ]
  },
  {
   "cell_type": "code",
   "execution_count": 2,
   "id": "16d30b01",
   "metadata": {},
   "outputs": [],
   "source": [
    "def print_hi(name):\n",
    "    \"\"\"\n",
    "    Says Hi to a given name.\n",
    "    \"\"\"\n",
    "    print(f'Hi, {name}') \n",
    "\n",
    "def print_full_name(first_name, last_name):\n",
    "    \"\"\"\n",
    "    Prints out the full name of a given person\n",
    "    \"\"\"\n",
    "    print(f\"First Name: {first_name}, Last Name: {last_name}\")"
   ]
  },
  {
   "cell_type": "markdown",
   "id": "c0c423c8",
   "metadata": {},
   "source": [
    "Easy enough, let us use this function"
   ]
  },
  {
   "cell_type": "code",
   "execution_count": 6,
   "id": "0ae32325",
   "metadata": {},
   "outputs": [
    {
     "name": "stdout",
     "output_type": "stream",
     "text": [
      "Hi, Adam\n",
      "First Name: Adam, Last Name: Joker\n"
     ]
    }
   ],
   "source": [
    "print_hi(\"Adam\")\n",
    "print_full_name(\"Adam\",\"Joker\")"
   ]
  },
  {
   "cell_type": "markdown",
   "id": "c0d49747",
   "metadata": {},
   "source": [
    "Perfect that works. Now let's try it with another name.\n",
    "### 1.1 Encapsulating things in the function context"
   ]
  },
  {
   "cell_type": "code",
   "execution_count": 7,
   "id": "21b748b9",
   "metadata": {},
   "outputs": [
    {
     "name": "stdout",
     "output_type": "stream",
     "text": [
      "First Name: Liu, Last Name: Jianguo\n"
     ]
    }
   ],
   "source": [
    "print_full_name(\"Liu\", \"Jianguo\")"
   ]
  },
  {
   "cell_type": "markdown",
   "id": "1eb46c40",
   "metadata": {},
   "source": [
    "Why is that a problem? Well, because Chinese actually reverse the order of first and last name the input is as expected, but functions' output is incorrect.\n",
    "\n",
    "**Problem**: Why did this happen? Because we encapsulated knowledge inside the scope of the functions' context. The function \"knows\" that the first input is the first name, and the second input is the last name."
   ]
  },
  {
   "cell_type": "markdown",
   "id": "b7f04cd9",
   "metadata": {},
   "source": [
    "### 1.2 Principle 1: Separating code from data"
   ]
  },
  {
   "cell_type": "code",
   "execution_count": 8,
   "id": "a69630c5",
   "metadata": {},
   "outputs": [],
   "source": [
    "class Name:\n",
    "    first_name: \"\"\n",
    "    last_name: \"\"\n",
    "\n",
    "def print_full_name_2(n: Name):\n",
    "    print(f\"First Name: {n.first_name}, Last Name: {n.last_name}\")"
   ]
  },
  {
   "cell_type": "code",
   "execution_count": 9,
   "id": "64e29586",
   "metadata": {},
   "outputs": [
    {
     "name": "stdout",
     "output_type": "stream",
     "text": [
      "First Name: Jianguo, Last Name: Liu\n"
     ]
    }
   ],
   "source": [
    "n = Name()\n",
    "n.first_name = \"Jianguo\"\n",
    "n.last_name = \"Liu\"\n",
    "print_full_name_2(n)"
   ]
  },
  {
   "cell_type": "markdown",
   "id": "b08895bd",
   "metadata": {},
   "source": [
    "Now that's pretty cool, and simple! Let's quickly rewrite the original function to encorporate the CN case as well \n",
    "just to compare the two.."
   ]
  },
  {
   "cell_type": "code",
   "execution_count": 17,
   "id": "f093e493",
   "metadata": {},
   "outputs": [
    {
     "name": "stdout",
     "output_type": "stream",
     "text": [
      "First Name: Adam, Last Name: Joker\n",
      "First Name: Jianguo, Last Name: Liu\n"
     ]
    }
   ],
   "source": [
    "def print_full_name(first_name, last_name, CN = False):\n",
    "    \"\"\"\n",
    "    Prints out the full name of a given person\n",
    "    \"\"\"\n",
    "    print(f\"First Name: {last_name}, Last Name: {first_name}\") if CN \\\n",
    "    else print(f\"First Name: {first_name}, Last Name: {last_name}\") \n",
    "    \n",
    "print_full_name(\"Adam\", \"Joker\")\n",
    "print_full_name(\"Liu\", \"Jianguo\", CN=True)"
   ]
  },
  {
   "cell_type": "markdown",
   "id": "3a6f30cc",
   "metadata": {},
   "source": [
    "### 1.3 Benefits of Principle 1 illustrated"
   ]
  },
  {
   "cell_type": "code",
   "execution_count": 12,
   "id": "9458d5b1",
   "metadata": {},
   "outputs": [
    {
     "name": "stdout",
     "output_type": "stream",
     "text": [
      "First Name: Jianguo, Last Name: Liu\n"
     ]
    }
   ],
   "source": [
    "## Benefit 1: Code can be used across contexts!\n",
    "# The function print_full_name() cannot be used in our Chinese context, it would have to be extended\n",
    "\n",
    "# The function print_full_name_2() however can be used across contexts by separating out the data. We could even do\n",
    "# things like varying the context to:\n",
    "\n",
    "n = Name()\n",
    "n.first_name = \"Jianguo\"\n",
    "n.middle_name = \"Wang\"\n",
    "n.last_name = \"Liu\"\n",
    "print_full_name_2(n)\n",
    "\n",
    "# This wouldn't be possible with print_full_name()."
   ]
  },
  {
   "cell_type": "markdown",
   "id": "89fe0d0b",
   "metadata": {},
   "source": [
    "**Benefit 2**: Code can be tested in isolation. Take a look at the test cases we'd have to write to cover the behavior.\n",
    "\n",
    "- For \"print_full_name()\" we would have to have at least two test cases, at min one for CN=True and one for CN=False\n",
    "- For \"print_full_name_2()\" we're fine with half of that. \n",
    "\n",
    "By separating out the context, we're able to reduce the complexity of our code, make it faster and easier to test. Pretty cool eh?"
   ]
  },
  {
   "cell_type": "markdown",
   "id": "3fc1a2a3",
   "metadata": {},
   "source": [
    "**Benefit 3**: DOP systems tend to be less complex. By less complex we mean almost all of the above, less code \"per unit\", easier to maintain/read/test units, BUT possibly more units with less dependencies than before.\n",
    "\n",
    "You can observe that benefit above where the context of CN vs Non-CN simply disappears by introducing the data object, even though we end up with two parts (one function and one data object) instead of just one function. So I would say, the second system is simpler than the first one."
   ]
  }
 ],
 "metadata": {
  "kernelspec": {
   "display_name": "Python 3 (ipykernel)",
   "language": "python",
   "name": "python3"
  },
  "language_info": {
   "codemirror_mode": {
    "name": "ipython",
    "version": 3
   },
   "file_extension": ".py",
   "mimetype": "text/x-python",
   "name": "python",
   "nbconvert_exporter": "python",
   "pygments_lexer": "ipython3",
   "version": "3.9.7"
  }
 },
 "nbformat": 4,
 "nbformat_minor": 5
}
