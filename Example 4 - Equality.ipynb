{
 "cells": [
  {
   "cell_type": "markdown",
   "id": "cb4bba9a",
   "metadata": {},
   "source": [
    "# Exploring Data-Oriented Programming Principle 4 & 5"
   ]
  },
  {
   "cell_type": "markdown",
   "id": "877cbe15",
   "metadata": {},
   "source": [
    "The last two principles of data-oriented programming are automatically fullfilled by Python, so I will just quickly highlight that they are there!"
   ]
  },
  {
   "cell_type": "code",
   "execution_count": 7,
   "id": "16d30b01",
   "metadata": {},
   "outputs": [
    {
     "name": "stdout",
     "output_type": "stream",
     "text": [
      "[1]\n",
      "True\n",
      "True\n",
      "True\n"
     ]
    }
   ],
   "source": [
    "a = [1]\n",
    "b = [1]\n",
    "\n",
    "print(a == b)\n",
    "\n",
    "a = {\"foo\": \"bar\"}\n",
    "b = {\"foo\": \"bar\"}\n",
    "\n",
    "print(a == b)\n",
    "\n",
    "a = {1,2}\n",
    "b = {2,1}\n",
    "\n",
    "print (a == b)"
   ]
  },
  {
   "cell_type": "markdown",
   "id": "c0c423c8",
   "metadata": {},
   "source": [
    "This automatically works in Python! That's great news and you've probably already experienced this. It means you'll have an easy time, as long as you stick to the basic data structures as dictated by principle ...!\n",
    "\n",
    "Unit tests are really easy, etc."
   ]
  }
 ],
 "metadata": {
  "kernelspec": {
   "display_name": "Python 3 (ipykernel)",
   "language": "python",
   "name": "python3"
  },
  "language_info": {
   "codemirror_mode": {
    "name": "ipython",
    "version": 3
   },
   "file_extension": ".py",
   "mimetype": "text/x-python",
   "name": "python",
   "nbconvert_exporter": "python",
   "pygments_lexer": "ipython3",
   "version": "3.9.7"
  }
 },
 "nbformat": 4,
 "nbformat_minor": 5
}
