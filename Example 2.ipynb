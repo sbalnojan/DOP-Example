{
 "cells": [
  {
   "cell_type": "markdown",
   "id": "cb4bba9a",
   "metadata": {},
   "source": [
    "# Exploring Data-Oriented Programming Principle 2"
   ]
  },
  {
   "cell_type": "markdown",
   "id": "877cbe15",
   "metadata": {},
   "source": [
    "We're going to explore the principles through Python code. Let's start! Following our understanding of principle 1, separate code and data, we will write two pieces,\n",
    "\n",
    "- A Name object carrying first and last name, \n",
    "- \"print_full_name_2(Name: Name)\" A function which prints the first and last name in the w  "
   ]
  },
  {
   "cell_type": "code",
   "execution_count": 1,
   "id": "16d30b01",
   "metadata": {},
   "outputs": [],
   "source": [
    "class Name:\n",
    "    first_name: \"\"\n",
    "    last_name: \"\"\n",
    "\n",
    "def print_full_name_2(n: Name):\n",
    "    print(f\"First Name: {n.first_name}, Last Name: {n.last_name}\")"
   ]
  },
  {
   "cell_type": "markdown",
   "id": "c0c423c8",
   "metadata": {},
   "source": [
    "Easy enough, let us use this function"
   ]
  },
  {
   "cell_type": "code",
   "execution_count": 2,
   "id": "0ae32325",
   "metadata": {},
   "outputs": [
    {
     "name": "stdout",
     "output_type": "stream",
     "text": [
      "First Name: Jianguo, Last Name: Liu\n"
     ]
    }
   ],
   "source": [
    "n = Name()\n",
    "n.first_name = \"Jianguo\"\n",
    "n.last_name = \"Liu\"\n",
    "print_full_name_2(n)"
   ]
  },
  {
   "cell_type": "markdown",
   "id": "c0d49747",
   "metadata": {},
   "source": [
    "Perfect that works. Now let's try it with another name. Something else....\n",
    "\n",
    "### 1.1 Principle 2: Represent data with generic structures"
   ]
  },
  {
   "cell_type": "code",
   "execution_count": 4,
   "id": "21b748b9",
   "metadata": {},
   "outputs": [
    {
     "name": "stdout",
     "output_type": "stream",
     "text": [
      "<__main__.Name object at 0x7fd3f8588ca0>\n"
     ]
    }
   ],
   "source": [
    "print(n)"
   ]
  },
  {
   "cell_type": "markdown",
   "id": "1eb46c40",
   "metadata": {},
   "source": [
    "Uh, that doesn't look nice. \n",
    "\n",
    "**Problem**: Because we've written our own class to capture data, we are not able to leverage standard functions. Let#s fix that in the DOP way by leveraging generic structures, for data these will be mostly maps and arrays. "
   ]
  },
  {
   "cell_type": "markdown",
   "id": "b7f04cd9",
   "metadata": {},
   "source": [
    "### 1.2 Principle 2: In action"
   ]
  },
  {
   "cell_type": "code",
   "execution_count": 9,
   "id": "a69630c5",
   "metadata": {},
   "outputs": [
    {
     "name": "stdout",
     "output_type": "stream",
     "text": [
      "{'first_name': 'Adam', 'last_name': 'Joker'}\n"
     ]
    }
   ],
   "source": [
    "class Name:\n",
    "    first_name: \"\"\n",
    "    last_name: \"\"\n",
    "        \n",
    "def create_name(first_name, last_name):\n",
    "    return {\"first_name\": first_name, \"last_name\": last_name}\n",
    "\n",
    "n = create_name(\"Adam\", \"Joker\")\n",
    "print(n)"
   ]
  },
  {
   "cell_type": "markdown",
   "id": "b08895bd",
   "metadata": {},
   "source": [
    "Now that's pretty cool, right? We suddenly get 100 functions that can operate on our one data structure (the map!) where for our own class we would've had to write 10 functions ourselves to operate on it and possibly other similar ones (to paraphase Alan Perlis). "
   ]
  },
  {
   "cell_type": "markdown",
   "id": "3a6f30cc",
   "metadata": {},
   "source": [
    "## 1.3 Benefits of Principle 2 illustrated"
   ]
  },
  {
   "cell_type": "code",
   "execution_count": 7,
   "id": "9458d5b1",
   "metadata": {},
   "outputs": [],
   "source": [
    "## Benefit 1: We can use a lot of functions on our data object!\n",
    "\n",
    "# You have all Python dictionary functions ready, you can easily access just the first names, sort things, turn them \n",
    "# into JSONs etc.\n"
   ]
  },
  {
   "cell_type": "code",
   "execution_count": 11,
   "id": "fd2e7f86",
   "metadata": {},
   "outputs": [
    {
     "name": "stdout",
     "output_type": "stream",
     "text": [
      "{'first_name': 'Adam', 'last_name': 'Joker', 'middle_name': 'Dan'}\n"
     ]
    }
   ],
   "source": [
    "## Benefit 2: You got a flexible data model\n",
    "\n",
    "n[\"middle_name\"] = \"Dan\"\n",
    "\n",
    "print(n)\n",
    "\n",
    "## That's easy n quick right? Same for deletions, renaming etc. etc."
   ]
  }
 ],
 "metadata": {
  "kernelspec": {
   "display_name": "Python 3 (ipykernel)",
   "language": "python",
   "name": "python3"
  },
  "language_info": {
   "codemirror_mode": {
    "name": "ipython",
    "version": 3
   },
   "file_extension": ".py",
   "mimetype": "text/x-python",
   "name": "python",
   "nbconvert_exporter": "python",
   "pygments_lexer": "ipython3",
   "version": "3.9.7"
  }
 },
 "nbformat": 4,
 "nbformat_minor": 5
}
