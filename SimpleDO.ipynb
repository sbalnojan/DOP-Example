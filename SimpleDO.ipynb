{
 "cells": [
  {
   "cell_type": "markdown",
   "id": "df34b4b7-8464-48e9-a41d-803f201f7c01",
   "metadata": {},
   "source": [
    "## The simplest possible DO Python ##"
   ]
  },
  {
   "cell_type": "code",
   "execution_count": 1,
   "id": "a5abb885-2b8b-4775-9bf7-ff16cafc00c8",
   "metadata": {},
   "outputs": [],
   "source": [
    "from pyrsistent import PRecord, field"
   ]
  },
  {
   "cell_type": "code",
   "execution_count": 12,
   "id": "51e23698-7291-4973-b43b-99c62fdba341",
   "metadata": {},
   "outputs": [],
   "source": [
    "# NON DO STUFF\n",
    "class data():\n",
    "    X = 1\n",
    "\n",
    "    def add(self):\n",
    "        self.X = X+1\n",
    "\n",
    "## DO version\n",
    "class data(PRecord):    ## (1) Using a base type PRecord = a map/dict in Python\n",
    "\tX = field()  \t  ## (2) Using an immutable type from pyristent\n",
    "\n",
    "def add(data):             ## (3) Separating the logic (add) from the data\n",
    "    return data.set(X=data.X+1) ## (2) return a new data piece, as data is immutable! "
   ]
  }
 ],
 "metadata": {
  "kernelspec": {
   "display_name": "Python 3 (ipykernel)",
   "language": "python",
   "name": "python3"
  },
  "language_info": {
   "codemirror_mode": {
    "name": "ipython",
    "version": 3
   },
   "file_extension": ".py",
   "mimetype": "text/x-python",
   "name": "python",
   "nbconvert_exporter": "python",
   "pygments_lexer": "ipython3",
   "version": "3.9.12"
  }
 },
 "nbformat": 4,
 "nbformat_minor": 5
}
