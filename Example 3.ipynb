{
 "cells": [
  {
   "cell_type": "markdown",
   "id": "cb4bba9a",
   "metadata": {},
   "source": [
    "# [WIP] Exploring Data-Oriented Programming Principle 3"
   ]
  },
  {
   "cell_type": "markdown",
   "id": "877cbe15",
   "metadata": {},
   "source": [
    "We're going to explore the principles through Python code. Let's start! Following our understanding of principle 1, separate code and data, we will write two pieces,\n",
    "\n",
    "- A Name object carrying first and last name, \n",
    "- \"print_full_name_2(Name: Name)\" A function which prints the first and last name in the w  "
   ]
  },
  {
   "cell_type": "code",
   "execution_count": 28,
   "id": "16d30b01",
   "metadata": {},
   "outputs": [
    {
     "name": "stdout",
     "output_type": "stream",
     "text": [
      "3\n",
      "[1, 2]\n"
     ]
    }
   ],
   "source": [
    "GLOBAL=[1]\n",
    "\n",
    "def function_w_sideeffects(x, y):\n",
    "    global GLOBAL\n",
    "    GLOBAL.append(2)\n",
    "    return x+y\n",
    "\n",
    "print(function_w_sideeffects(1,2))\n",
    "\n",
    "print(GLOBAL)"
   ]
  },
  {
   "cell_type": "markdown",
   "id": "c0c423c8",
   "metadata": {},
   "source": [
    "Uh, so that's not so cool anymore...\n",
    "\n",
    "**Problem**: GLOBAL changed, and we were not aware that it could change at all. After all, all caps usually implies a \"constant\". \n",
    "\n",
    "The solution? Use immutable data structures. For Python that means we need an external package. \"pyrsistent\" will do the job, it's the default package for persistant data structures."
   ]
  },
  {
   "cell_type": "code",
   "execution_count": 17,
   "id": "0ae32325",
   "metadata": {},
   "outputs": [
    {
     "name": "stdout",
     "output_type": "stream",
     "text": [
      "Requirement already satisfied: pyrsistent in /opt/conda/lib/python3.9/site-packages (0.18.0)\n"
     ]
    }
   ],
   "source": [
    "import sys\n",
    "!{sys.executable} -m pip install pyrsistent\n",
    "\n",
    "from pyrsistent import v, pvector, thaw\n"
   ]
  },
  {
   "cell_type": "markdown",
   "id": "4ed2548c",
   "metadata": {},
   "source": [
    "Next, let us create \"GLOBAL\" as immutable data structure..."
   ]
  },
  {
   "cell_type": "code",
   "execution_count": 33,
   "id": "74f5aa7d",
   "metadata": {},
   "outputs": [
    {
     "name": "stdout",
     "output_type": "stream",
     "text": [
      "[2]\n",
      "pvector([2, 3])\n"
     ]
    }
   ],
   "source": [
    "GLOBAL = v(2)\n",
    "print(thaw(GLOBAL))\n",
    "\n",
    "GLOBAL2=GLOBAL.append(3)\n",
    "print(GLOBAL2)"
   ]
  },
  {
   "cell_type": "markdown",
   "id": "b7f04cd9",
   "metadata": {},
   "source": [
    "### Benefits of Principle 3 illustrated"
   ]
  },
  {
   "cell_type": "code",
   "execution_count": 36,
   "id": "a69630c5",
   "metadata": {},
   "outputs": [
    {
     "ename": "IndentationError",
     "evalue": "expected an indented block (2771941423.py, line 1)",
     "output_type": "error",
     "traceback": [
      "\u001b[0;36m  File \u001b[0;32m\"/tmp/ipykernel_47/2771941423.py\"\u001b[0;36m, line \u001b[0;32m1\u001b[0m\n\u001b[0;31m    def fun_multi_add(x,y):\u001b[0m\n\u001b[0m                           ^\u001b[0m\n\u001b[0;31mIndentationError\u001b[0m\u001b[0;31m:\u001b[0m expected an indented block\n"
     ]
    }
   ],
   "source": [
    "def fun_multi_add(x,y):\n",
    "    functino_w_sideeffects()\n",
    "    # ... Soo!! It's predictable..., "
   ]
  },
  {
   "cell_type": "markdown",
   "id": "b08895bd",
   "metadata": {},
   "source": [
    "Benefit 2: Data access without trouble. No need to worry ever to pass data to a function.\n",
    "\n",
    "Benefit 3: Here an equality check is faster because data doesn'T change (it's read optimized, whereas mutable objects need to balance read/write operations).\n",
    "\n",
    "Benefit 4: No need to do anything about concurrency, easy parallizability,..."
   ]
  }
 ],
 "metadata": {
  "kernelspec": {
   "display_name": "Python 3 (ipykernel)",
   "language": "python",
   "name": "python3"
  },
  "language_info": {
   "codemirror_mode": {
    "name": "ipython",
    "version": 3
   },
   "file_extension": ".py",
   "mimetype": "text/x-python",
   "name": "python",
   "nbconvert_exporter": "python",
   "pygments_lexer": "ipython3",
   "version": "3.9.12"
  }
 },
 "nbformat": 4,
 "nbformat_minor": 5
}
